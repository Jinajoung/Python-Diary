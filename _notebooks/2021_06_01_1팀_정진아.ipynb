{
  "nbformat": 4,
  "nbformat_minor": 0,
  "metadata": {
    "colab": {
      "name": "2021-06-01 1팀 정진아",
      "provenance": [],
      "authorship_tag": "ABX9TyN/VdoxjkkKVqnV8OtTxUVY",
      "include_colab_link": true
    },
    "kernelspec": {
      "name": "python3",
      "display_name": "Python 3"
    },
    "language_info": {
      "name": "python"
    }
  },
  "cells": [
    {
      "cell_type": "markdown",
      "metadata": {
        "id": "view-in-github",
        "colab_type": "text"
      },
      "source": [
        "<a href=\"https://colab.research.google.com/github/Jinajoung/Python-Diary/blob/master/_notebooks/2021_06_01_1%ED%8C%80_%EC%A0%95%EC%A7%84%EC%95%84.ipynb\" target=\"_parent\"><img src=\"https://colab.research.google.com/assets/colab-badge.svg\" alt=\"Open In Colab\"/></a>"
      ]
    },
    {
      "cell_type": "code",
      "metadata": {
        "colab": {
          "base_uri": "https://localhost:8080/"
        },
        "id": "0EQA1VERubNo",
        "outputId": "21793b50-70c6-4d66-8cbe-0ec3e00f78dc"
      },
      "source": [
        "menu = {'아메리카노','카페라떼','카푸치노'}\n",
        "menu"
      ],
      "execution_count": null,
      "outputs": [
        {
          "output_type": "execute_result",
          "data": {
            "text/plain": [
              "{'아메리카노', '카페라떼', '카푸치노'}"
            ]
          },
          "metadata": {
            "tags": []
          },
          "execution_count": 1
        }
      ]
    },
    {
      "cell_type": "markdown",
      "metadata": {
        "id": "tqt6sBaJzDHo"
      },
      "source": [
        "##반복구조"
      ]
    },
    {
      "cell_type": "code",
      "metadata": {
        "id": "50KAPFS3wz5V"
      },
      "source": [
        "#for 문\n",
        "#-주어진 자료를 순회할 때 주로 사용되는 반복 구조이다.\n",
        "# 반복의 범위가 미리 정해진다.\n",
        "#for 제어변수 in 시퀀스:\n",
        "    #명령문\n",
        "\n",
        "\n"
      ],
      "execution_count": null,
      "outputs": []
    },
    {
      "cell_type": "code",
      "metadata": {
        "colab": {
          "base_uri": "https://localhost:8080/"
        },
        "id": "s4pf17wv3mOa",
        "outputId": "0d9be581-439e-49a0-846f-c48f0d692ce7"
      },
      "source": [
        "#예제>1부터 5까지 출력하기  # while문 옆에는 참 거짓 판단이 되는 조건식이 들어가야 함. \n",
        "i = 1\n",
        "while i<=5:\n",
        "    i = i+1   # 루프의 조건식은 while문 안에서 변경되어야 함. \n",
        "    print(i,end=' ')\n"
      ],
      "execution_count": null,
      "outputs": [
        {
          "output_type": "stream",
          "text": [
            "2 3 4 5 6 "
          ],
          "name": "stdout"
        }
      ]
    },
    {
      "cell_type": "code",
      "metadata": {
        "colab": {
          "base_uri": "https://localhost:8080/"
        },
        "id": "OcJufJnm35bg",
        "outputId": "e735351c-00f9-460c-dec0-9251170a1a09"
      },
      "source": [
        "#예제>1부터 5까지 출력하기\n",
        "for i in range(1,6):\n",
        "    print(i,end=' ')"
      ],
      "execution_count": null,
      "outputs": [
        {
          "output_type": "stream",
          "text": [
            "1 2 3 4 5 "
          ],
          "name": "stdout"
        }
      ]
    },
    {
      "cell_type": "code",
      "metadata": {
        "id": "MRTCBScp4Gm-"
      },
      "source": [
        "#무한루프\n",
        "i = 1\n",
        "while i<=5:\n",
        "    print(i)\n",
        "print(\"끝\")"
      ],
      "execution_count": null,
      "outputs": []
    },
    {
      "cell_type": "code",
      "metadata": {
        "colab": {
          "base_uri": "https://localhost:8080/"
        },
        "id": "R_5VZngd5xcV",
        "outputId": "f329b8e7-c8db-484e-def1-f82ef411dcac"
      },
      "source": [
        "num = 0\n",
        "sum1 = 0\n",
        "while num != 99:\n",
        "  \n",
        "    num = int(input('숫자를 입력하세요:'))\n",
        "    sum1 += num\n",
        "    print(sum1)"
      ],
      "execution_count": null,
      "outputs": [
        {
          "output_type": "stream",
          "text": [
            "숫자를 입력하세요:11\n",
            "11\n",
            "숫자를 입력하세요:2\n",
            "13\n",
            "숫자를 입력하세요:3\n",
            "16\n",
            "숫자를 입력하세요:99\n",
            "115\n"
          ],
          "name": "stdout"
        }
      ]
    },
    {
      "cell_type": "code",
      "metadata": {
        "colab": {
          "base_uri": "https://localhost:8080/"
        },
        "id": "SDaGgXja-Bis",
        "outputId": "4db2e85b-9ac1-482a-f62d-9485c7a5c461"
      },
      "source": [
        "#예제 5개의 정수를 입력받아 합계 구하기\n",
        "sum1 = 0\n",
        "n = int(input('몇개의 숫자를 더할까요? :'))\n",
        "for i in range(n):\n",
        "    sum1 += int(input('정수입력:'))\n",
        "print('합계출력:',sum1)"
      ],
      "execution_count": null,
      "outputs": [
        {
          "output_type": "stream",
          "text": [
            "몇개의 숫자를 더할까요? :5\n",
            "정수입력:33\n",
            "정수입력:22\n",
            "정수입력:66\n",
            "정수입력:77\n",
            "정수입력:1\n",
            "합계출력: 199\n"
          ],
          "name": "stdout"
        }
      ]
    },
    {
      "cell_type": "code",
      "metadata": {
        "colab": {
          "base_uri": "https://localhost:8080/"
        },
        "id": "IjuB6djRBE8_",
        "outputId": "e1808cbd-b60f-4d62-9b06-5222469cc73a"
      },
      "source": [
        "sum = 0\n",
        "for i in range(5):\n",
        "    sum += int(input('정수입력:'))\n",
        "print('합계출력:',sum)"
      ],
      "execution_count": null,
      "outputs": [
        {
          "output_type": "stream",
          "text": [
            "정수입력:1\n",
            "정수입력:2\n",
            "정수입력:3\n",
            "정수입력:4\n",
            "정수입력:5\n",
            "합계출력: 15\n"
          ],
          "name": "stdout"
        }
      ]
    },
    {
      "cell_type": "code",
      "metadata": {
        "colab": {
          "base_uri": "https://localhost:8080/"
        },
        "id": "SRpncbUABvLb",
        "outputId": "be3341cd-f96b-49f7-cbbd-5551986e3621"
      },
      "source": [
        "i = 1\n",
        "while i<=5:\n",
        "    i = i+1  \n",
        "    print(i,end=' ')"
      ],
      "execution_count": null,
      "outputs": [
        {
          "output_type": "stream",
          "text": [
            "2 3 4 5 6 "
          ],
          "name": "stdout"
        }
      ]
    },
    {
      "cell_type": "code",
      "metadata": {
        "colab": {
          "base_uri": "https://localhost:8080/"
        },
        "id": "OwAotwNNCKpu",
        "outputId": "aabf8c42-0d64-4f0a-fc1e-8d06b32ec60b"
      },
      "source": [
        "#예제 n개의 정수를 입력받아 합계 구하기\n",
        "n = int(input('몇번을 더하는 거야?:'))\n",
        "sum1 = 0\n",
        "for i in range(n):\n",
        "    sum1 += int(input('정수입력'))\n",
        "print('합계출력:',sum1)"
      ],
      "execution_count": null,
      "outputs": [
        {
          "output_type": "stream",
          "text": [
            "몇번을 더하는 거야?:2\n",
            "정수입력40\n",
            "정수입력100\n",
            "합계출력: 140\n"
          ],
          "name": "stdout"
        }
      ]
    },
    {
      "cell_type": "code",
      "metadata": {
        "id": "W90oXhUqELtE"
      },
      "source": [
        "#남가연님 답 \n",
        "i=0\n",
        "sum1=0\n",
        "n=int(input('몇 개의 숫자를 구할까요?:'))\n",
        "​\n",
        "while i<n:\n",
        "    num=int(input('정수입력: '))\n",
        "    i+=1\n",
        "    sum1+=num\n",
        "print(f'합계는 {sum1}입니다')"
      ],
      "execution_count": null,
      "outputs": []
    },
    {
      "cell_type": "code",
      "metadata": {
        "colab": {
          "base_uri": "https://localhost:8080/"
        },
        "id": "KHfE4biCEgW0",
        "outputId": "04928beb-3521-4a87-ec34-ddb21c7c7327"
      },
      "source": [
        "n = int(input('몇개의 숫자를 구할래?'))\n",
        "sum1 = 0\n",
        "\n",
        "for i in range(n):\n",
        "    num = int(input('정수입력:'))\n",
        "    if num % 2 == 0:\n",
        "        sum1 += num\n",
        "print('합계출력:',sum1)"
      ],
      "execution_count": null,
      "outputs": [
        {
          "output_type": "stream",
          "text": [
            "몇개의 숫자를 구할래?1\n",
            "정수입력:2\n",
            "합계출력: 2\n"
          ],
          "name": "stdout"
        }
      ]
    },
    {
      "cell_type": "code",
      "metadata": {
        "colab": {
          "base_uri": "https://localhost:8080/"
        },
        "id": "rb6wu6lXFdXQ",
        "outputId": "361908b1-8615-4238-e262-fa06f8d9a180"
      },
      "source": [
        "sum1 = 0\n",
        "num = int(input(\"숫자:\"))\n",
        "while num != 0:\n",
        "    sum1+=num\n",
        "    num = int(input('숫자')) \n",
        "    \n",
        "print(\"합계:\",sum)"
      ],
      "execution_count": null,
      "outputs": [
        {
          "output_type": "stream",
          "text": [
            "숫자:2\n",
            "숫자22\n",
            "숫자1\n",
            "숫자0\n",
            "합계: 0\n"
          ],
          "name": "stdout"
        }
      ]
    },
    {
      "cell_type": "code",
      "metadata": {
        "id": "8-Um3yCSGGF5"
      },
      "source": [
        "num = 0\n",
        "sum1 = 0\n",
        "while num != 0:  #num이 0이니까 그냥 끝나버림\n",
        "  \n",
        "    num = int(input('숫자를 입력하세요:'))\n",
        "    sum1 += num\n",
        "    print(sum1)"
      ],
      "execution_count": null,
      "outputs": []
    },
    {
      "cell_type": "code",
      "metadata": {
        "colab": {
          "base_uri": "https://localhost:8080/"
        },
        "id": "hjAe6LcsKBtC",
        "outputId": "b3ff04e8-a645-4eb7-8ff5-1150dd0c5dd3"
      },
      "source": [
        "#예제 1~n까지 더하는 프로그램을 작성하세요\n",
        "sum1 = 0\n",
        "n = int(input('1부터 몇까지 더할까요?:'))\n",
        "for i in range(1,n+1):\n",
        "    sum1 += i\n",
        "    print(i)\n",
        "print(f'1부터 {n}까지 더한 합계는:',sum1)\n"
      ],
      "execution_count": null,
      "outputs": [
        {
          "output_type": "stream",
          "text": [
            "1부터 몇까지 더할까요?:4\n",
            "1\n",
            "2\n",
            "3\n",
            "4\n",
            "1부터 4까지 더한 합계는: 10\n"
          ],
          "name": "stdout"
        }
      ]
    },
    {
      "cell_type": "code",
      "metadata": {
        "id": "5F7MBgHLONMV"
      },
      "source": [
        "# n개의 정수와, 사칙연산 기호 입력받아 값 구하기\n",
        "​\n",
        "i=0\n",
        "result=0\n",
        "n=int(input('몇 개의 숫자를 구할까요?: '))\n",
        "sign=str(input('어떤 연산을 할까요?: '))\n",
        "​\n",
        "while i<n: #이거는 그냥 range(n)이랑 비슷한거임\n",
        "    num=int(input('정수입력: '))\n",
        "    i+=1\n",
        "    if sign == '+':\n",
        "        result += num\n",
        "    elif sign == '-':\n",
        "        result -= num\n",
        "    elif sign == '*':\n",
        "        result *= num\n",
        "    elif sign == '/':\n",
        "        result /= num\n",
        "​\n",
        "print('-'*50)\n",
        "print(f'결과는 {result}입니다')\n",
        "​\n",
        "# -연산을 할 경우 시작값이 0이라 음수만 나옴. 시작값을 넣고싶다면 첫 값을 음수(-a)로 입력해 양수로 바꿔야함.\n",
        "# result 초기값이 0이라 곱셈, 나눗셈 연산은 아무리해도 결과값이 0이 됨. ''으로 하면 str형식이 되서 int와 연산되지 않음."
      ],
      "execution_count": null,
      "outputs": []
    },
    {
      "cell_type": "code",
      "metadata": {
        "colab": {
          "base_uri": "https://localhost:8080/"
        },
        "id": "OLxZ2xBGS1tV",
        "outputId": "56797acf-4238-42d4-8434-1a42a90fb910"
      },
      "source": [
        "result=0\n",
        "n=int(input('1부터 몇까지 더할까요? : '))\n",
        "for i in range(1,n+1):\n",
        "    result +=i\n",
        "\n",
        "   \n",
        "print('-'*50)\n",
        "print(f'결과는 {result}입니다')\n"
      ],
      "execution_count": null,
      "outputs": [
        {
          "output_type": "stream",
          "text": [
            "1부터 몇까지 더할까요? : 3\n",
            "--------------------------------------------------\n",
            "결과는 6입니다\n"
          ],
          "name": "stdout"
        }
      ]
    },
    {
      "cell_type": "code",
      "metadata": {
        "colab": {
          "base_uri": "https://localhost:8080/"
        },
        "id": "YgxU9392ZV7T",
        "outputId": "322fbc8d-7c01-4844-ba10-497c97f1ce89"
      },
      "source": [
        "# 예제 n1~n2 까지 더하는 프로그램을 작성하세요.\n",
        "sum1 = 0\n",
        "n1 = int(input('몇부터 더할까요?:'))\n",
        "n2 = int(input('몇까지 더할까요?:'))\n",
        "for i in range(n1,n2+1):\n",
        "    sum1+=i\n",
        "print(f'{n1}부터 {n2}까지 더한 합계는:',sum1)\n"
      ],
      "execution_count": null,
      "outputs": [
        {
          "output_type": "stream",
          "text": [
            "몇부터 더할까요?:3\n",
            "몇까지 더할까요?:10\n",
            "3부터 10까지 더한 합계는: 52\n"
          ],
          "name": "stdout"
        }
      ]
    },
    {
      "cell_type": "code",
      "metadata": {
        "colab": {
          "base_uri": "https://localhost:8080/"
        },
        "id": "q9ljyyzDbx87",
        "outputId": "fb8e2a07-3bfe-4a06-ce37-c515ef26fe75"
      },
      "source": [
        "#임의의 개수 숫자의 평균 구하기\n",
        "n = int(input('입력받을 정수의 개수:'))\n",
        "sum1 = 0\n",
        "\n",
        "for i in range(n):\n",
        "    num = int(input('정수'))\n",
        "    sum1 += num\n",
        "\n",
        "if n ==0:\n",
        "    print('0개의 점수를 입력하셨습니다.')\n",
        "else: \n",
        "    print('평균:',sum1/n)\n",
        "  \n",
        "\n",
        "\n"
      ],
      "execution_count": null,
      "outputs": [
        {
          "output_type": "stream",
          "text": [
            "입력받을 정수의 개수:3\n",
            "정수1\n",
            "정수7\n",
            "정수9\n",
            "평균: 5.666666666666667\n"
          ],
          "name": "stdout"
        }
      ]
    },
    {
      "cell_type": "code",
      "metadata": {
        "colab": {
          "base_uri": "https://localhost:8080/"
        },
        "id": "fppT6d3ndN2C",
        "outputId": "1dddc900-ba52-4afb-e2b0-697f02cca4ef"
      },
      "source": [
        "#예제>팩토리얼 계산하기\n",
        "n = int(input('몇 팩토리얼?:'))\n",
        "sum1 = 1\n",
        "for i in range(n,0,-1):\n",
        "    print(i)\n",
        "    sum1 *= i\n",
        "print(f'{n}! = {sum1}')\n",
        "    \n"
      ],
      "execution_count": null,
      "outputs": [
        {
          "output_type": "stream",
          "text": [
            "몇 팩토리얼?:5\n",
            "5\n",
            "4\n",
            "3\n",
            "2\n",
            "1\n",
            "5! = 120\n"
          ],
          "name": "stdout"
        }
      ]
    },
    {
      "cell_type": "code",
      "metadata": {
        "colab": {
          "base_uri": "https://localhost:8080/"
        },
        "id": "EXCr9lAHgxnU",
        "outputId": "96e56997-b73e-43f2-be4a-a0a6547610ef"
      },
      "source": [
        "#구구단 예제\n",
        "n = int(input('구구단 몇단을 출력할까요?:'))\n",
        "\n",
        "for i in range(1,10):\n",
        "    print(f' {n} * {i} = {n*i}',end = ' ')"
      ],
      "execution_count": null,
      "outputs": [
        {
          "output_type": "stream",
          "text": [
            "구구단 몇단을 출력할까요?:3\n",
            " 3 * 1 = 3  3 * 2 = 6  3 * 3 = 9  3 * 4 = 12  3 * 5 = 15  3 * 6 = 18  3 * 7 = 21  3 * 8 = 24  3 * 9 = 27 "
          ],
          "name": "stdout"
        }
      ]
    },
    {
      "cell_type": "code",
      "metadata": {
        "colab": {
          "base_uri": "https://localhost:8080/"
        },
        "id": "dBf21QndiuhI",
        "outputId": "c9120457-d90a-47c5-d504-8ef2dd4ea70c"
      },
      "source": [
        "#중첩 반복 구조\n",
        "for i in range(2):   # 0,1,2,3,4,까지의 범위 수행\n",
        "    for j in range(4): # 0,1,2,까지의 범위 수행 \n",
        "        print(i,j)"
      ],
      "execution_count": null,
      "outputs": [
        {
          "output_type": "stream",
          "text": [
            "0 0\n",
            "0 1\n",
            "0 2\n",
            "0 3\n",
            "1 0\n",
            "1 1\n",
            "1 2\n",
            "1 3\n"
          ],
          "name": "stdout"
        }
      ]
    },
    {
      "cell_type": "code",
      "metadata": {
        "id": "NRmacKvLmGvf"
      },
      "source": [
        "for i in range(2):   # 0,1,2,3,4,까지의 범위 수행\n",
        "    for j in range(4): # 0,1,2,까지의 범위 수행 \n",
        "        print(i,j)"
      ],
      "execution_count": null,
      "outputs": []
    },
    {
      "cell_type": "code",
      "metadata": {
        "colab": {
          "base_uri": "https://localhost:8080/"
        },
        "id": "m4bUfX7jnbEL",
        "outputId": "d53a6093-4de1-4641-e761-1a1367357423"
      },
      "source": [
        "#예제> 전체 구구단 출력하기(가로)\n",
        "for i in range(2,10):\n",
        "    for j in range(1,10):\n",
        "        print(f' {i} * {j} = {i*j}',end= '\\t')\n",
        "    print()"
      ],
      "execution_count": null,
      "outputs": [
        {
          "output_type": "stream",
          "text": [
            " 2 * 1 = 2\t 2 * 2 = 4\t 2 * 3 = 6\t 2 * 4 = 8\t 2 * 5 = 10\t 2 * 6 = 12\t 2 * 7 = 14\t 2 * 8 = 16\t 2 * 9 = 18\t\n",
            " 3 * 1 = 3\t 3 * 2 = 6\t 3 * 3 = 9\t 3 * 4 = 12\t 3 * 5 = 15\t 3 * 6 = 18\t 3 * 7 = 21\t 3 * 8 = 24\t 3 * 9 = 27\t\n",
            " 4 * 1 = 4\t 4 * 2 = 8\t 4 * 3 = 12\t 4 * 4 = 16\t 4 * 5 = 20\t 4 * 6 = 24\t 4 * 7 = 28\t 4 * 8 = 32\t 4 * 9 = 36\t\n",
            " 5 * 1 = 5\t 5 * 2 = 10\t 5 * 3 = 15\t 5 * 4 = 20\t 5 * 5 = 25\t 5 * 6 = 30\t 5 * 7 = 35\t 5 * 8 = 40\t 5 * 9 = 45\t\n",
            " 6 * 1 = 6\t 6 * 2 = 12\t 6 * 3 = 18\t 6 * 4 = 24\t 6 * 5 = 30\t 6 * 6 = 36\t 6 * 7 = 42\t 6 * 8 = 48\t 6 * 9 = 54\t\n",
            " 7 * 1 = 7\t 7 * 2 = 14\t 7 * 3 = 21\t 7 * 4 = 28\t 7 * 5 = 35\t 7 * 6 = 42\t 7 * 7 = 49\t 7 * 8 = 56\t 7 * 9 = 63\t\n",
            " 8 * 1 = 8\t 8 * 2 = 16\t 8 * 3 = 24\t 8 * 4 = 32\t 8 * 5 = 40\t 8 * 6 = 48\t 8 * 7 = 56\t 8 * 8 = 64\t 8 * 9 = 72\t\n",
            " 9 * 1 = 9\t 9 * 2 = 18\t 9 * 3 = 27\t 9 * 4 = 36\t 9 * 5 = 45\t 9 * 6 = 54\t 9 * 7 = 63\t 9 * 8 = 72\t 9 * 9 = 81\t\n"
          ],
          "name": "stdout"
        }
      ]
    },
    {
      "cell_type": "code",
      "metadata": {
        "colab": {
          "base_uri": "https://localhost:8080/"
        },
        "id": "a6YhpRCzoAZE",
        "outputId": "8feef8cb-0f3c-42bd-b887-ba187dac5ec1"
      },
      "source": [
        "#예제> 전체 구구단 출력하기(세로)\n",
        "for i in range(1,10):\n",
        "    for j in range(2,10):\n",
        "        print(f' {i} * {j} = {i*j}',end= '\\t')\n",
        "    print()"
      ],
      "execution_count": null,
      "outputs": [
        {
          "output_type": "stream",
          "text": [
            " 1 * 2 = 2\t 1 * 3 = 3\t 1 * 4 = 4\t 1 * 5 = 5\t 1 * 6 = 6\t 1 * 7 = 7\t 1 * 8 = 8\t 1 * 9 = 9\t\n",
            " 2 * 2 = 4\t 2 * 3 = 6\t 2 * 4 = 8\t 2 * 5 = 10\t 2 * 6 = 12\t 2 * 7 = 14\t 2 * 8 = 16\t 2 * 9 = 18\t\n",
            " 3 * 2 = 6\t 3 * 3 = 9\t 3 * 4 = 12\t 3 * 5 = 15\t 3 * 6 = 18\t 3 * 7 = 21\t 3 * 8 = 24\t 3 * 9 = 27\t\n",
            " 4 * 2 = 8\t 4 * 3 = 12\t 4 * 4 = 16\t 4 * 5 = 20\t 4 * 6 = 24\t 4 * 7 = 28\t 4 * 8 = 32\t 4 * 9 = 36\t\n",
            " 5 * 2 = 10\t 5 * 3 = 15\t 5 * 4 = 20\t 5 * 5 = 25\t 5 * 6 = 30\t 5 * 7 = 35\t 5 * 8 = 40\t 5 * 9 = 45\t\n",
            " 6 * 2 = 12\t 6 * 3 = 18\t 6 * 4 = 24\t 6 * 5 = 30\t 6 * 6 = 36\t 6 * 7 = 42\t 6 * 8 = 48\t 6 * 9 = 54\t\n",
            " 7 * 2 = 14\t 7 * 3 = 21\t 7 * 4 = 28\t 7 * 5 = 35\t 7 * 6 = 42\t 7 * 7 = 49\t 7 * 8 = 56\t 7 * 9 = 63\t\n",
            " 8 * 2 = 16\t 8 * 3 = 24\t 8 * 4 = 32\t 8 * 5 = 40\t 8 * 6 = 48\t 8 * 7 = 56\t 8 * 8 = 64\t 8 * 9 = 72\t\n",
            " 9 * 2 = 18\t 9 * 3 = 27\t 9 * 4 = 36\t 9 * 5 = 45\t 9 * 6 = 54\t 9 * 7 = 63\t 9 * 8 = 72\t 9 * 9 = 81\t\n"
          ],
          "name": "stdout"
        }
      ]
    },
    {
      "cell_type": "code",
      "metadata": {
        "colab": {
          "base_uri": "https://localhost:8080/",
          "height": 137
        },
        "id": "NOPGyPh1pOCx",
        "outputId": "c5462aaa-52a5-4bd1-9371-d2ffe4044c59"
      },
      "source": [
        "#문장에서 해당 문자를 찾으면 반복을 종료 한다\n",
        "t = 'I have a dream'\n",
        "letter =input('찾을 문자:')\n",
        "for i in t:\n",
        "    print(i,end=\" \")\n",
        "    if i == letter and cnt = 0:\n",
        "        cnt = 1\n",
        "    else: break\n"
      ],
      "execution_count": null,
      "outputs": [
        {
          "output_type": "error",
          "ename": "SyntaxError",
          "evalue": "ignored",
          "traceback": [
            "\u001b[0;36m  File \u001b[0;32m\"<ipython-input-70-418e77ac5bac>\"\u001b[0;36m, line \u001b[0;32m6\u001b[0m\n\u001b[0;31m    if i == letter and cnt = 0:\u001b[0m\n\u001b[0m                           ^\u001b[0m\n\u001b[0;31mSyntaxError\u001b[0m\u001b[0;31m:\u001b[0m invalid syntax\n"
          ]
        }
      ]
    },
    {
      "cell_type": "code",
      "metadata": {
        "colab": {
          "base_uri": "https://localhost:8080/"
        },
        "id": "Lb_exb7mq6wX",
        "outputId": "397e02cd-23ef-4330-b809-81188cf3e875"
      },
      "source": [
        "#예제>up&down게임\n",
        "\n",
        "import random\n",
        "k = random.randint(1,100)\n",
        "n = int(input('숫자 입력해:'))\n",
        "while k !=n:\n",
        "    if n<k:\n",
        "        print(\"up\")\n",
        "        n = int(input('정답을 다시 맞춰보세요:'))\n",
        "    elif n>k:\n",
        "        print(\"down\")\n",
        "        n = int(input('정답을 다시 맞춰보세요:'))\n",
        "print(\"정답!\")\n"
      ],
      "execution_count": null,
      "outputs": [
        {
          "output_type": "stream",
          "text": [
            "숫자 입력해:4\n",
            "up\n",
            "정답을 다시 맞춰보세요:6\n",
            "up\n",
            "정답을 다시 맞춰보세요:90\n",
            "down\n",
            "정답을 다시 맞춰보세요:88\n",
            "down\n",
            "정답을 다시 맞춰보세요:60\n",
            "down\n",
            "정답을 다시 맞춰보세요:54\n",
            "down\n",
            "정답을 다시 맞춰보세요:35\n",
            "down\n",
            "정답을 다시 맞춰보세요:24\n",
            "up\n",
            "정답을 다시 맞춰보세요:26\n",
            "정답!\n"
          ],
          "name": "stdout"
        }
      ]
    },
    {
      "cell_type": "code",
      "metadata": {
        "colab": {
          "base_uri": "https://localhost:8080/"
        },
        "id": "bILxV_2Cu_DR",
        "outputId": "0c8fe667-92a1-45bb-84d7-886161158c3c"
      },
      "source": [
        "#예제 UP&DOWN 게임 (남가연님 답)\n",
        "import random\n",
        " \n",
        "num=random.randint(1,100)\n",
        "num2=int(input('정답을 맞춰보세요: '))\n",
        " \n",
        "while num != num2:\n",
        "    if num > num2:\n",
        "        print('UP')\n",
        "        num2=int(input('정답을 다시 맞춰보세요: '))\n",
        "    elif num < num2:\n",
        "        print('DOWN')\n",
        "        num2=int(input('정답을 다시 맞춰보세요: '))\n",
        "print('정답!!')"
      ],
      "execution_count": null,
      "outputs": [
        {
          "output_type": "stream",
          "text": [
            "정답을 맞춰보세요: 20\n",
            "UP\n",
            "정답을 다시 맞춰보세요: 23\n",
            "UP\n",
            "정답을 다시 맞춰보세요: 50\n",
            "DOWN\n",
            "정답을 다시 맞춰보세요: 44\n",
            "DOWN\n",
            "정답을 다시 맞춰보세요: 33\n",
            "UP\n",
            "정답을 다시 맞춰보세요: 36\n",
            "UP\n",
            "정답을 다시 맞춰보세요: 40\n",
            "DOWN\n",
            "정답을 다시 맞춰보세요: 39\n",
            "정답!!\n"
          ],
          "name": "stdout"
        }
      ]
    },
    {
      "cell_type": "code",
      "metadata": {
        "id": "Czj9-A3zxXXK"
      },
      "source": [
        ""
      ],
      "execution_count": null,
      "outputs": []
    }
  ]
}